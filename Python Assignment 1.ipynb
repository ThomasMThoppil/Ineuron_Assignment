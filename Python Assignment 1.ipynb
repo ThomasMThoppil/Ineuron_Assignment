{
 "cells": [
  {
   "cell_type": "markdown",
   "metadata": {},
   "source": [
    "1. Write a program which will find all such numbers which are divisible by 7 but are not a multiple of 5, between 2000 and 3200 (both included). The numbers obtained should be printed in a comma-separated sequence on a single line"
   ]
  },
  {
   "cell_type": "code",
   "execution_count": 1,
   "metadata": {},
   "outputs": [
    {
     "name": "stdout",
     "output_type": "stream",
     "text": [
      "2030,   2065,   2100,   2135,   2170,   2205,   2240,   2275,   2310,   2345,   2380,   2415,   2450,   2485,   2520,   2555,   2590,   2625,   2660,   2695,   2730,   2765,   2800,   2835,   2870,   2905,   2940,   2975,   3010,   3045,   3080,   3115,   3150,   3185,   "
     ]
    }
   ],
   "source": [
    "a=[]\n",
    "for i in range(2000,3201):\n",
    "    if i%5 == 0:\n",
    "        if i%7 ==0:\n",
    "            a.append(i)\n",
    "for i in range(len(a)):\n",
    "    print(a[i],end=\",   \")\n"
   ]
  },
  {
   "cell_type": "markdown",
   "metadata": {},
   "source": [
    "2. Write a Python program to accept the user's first and last name and then getting them\n",
    " printed in the the reverse order with a space between first name and last name"
   ]
  },
  {
   "cell_type": "code",
   "execution_count": 2,
   "metadata": {},
   "outputs": [
    {
     "name": "stdout",
     "output_type": "stream",
     "text": [
      "Your first name please- Tom\n",
      "Your last name please- Cruise\n",
      "Cruise   Tom\n"
     ]
    }
   ],
   "source": [
    "fname = input(\"Your first name please- \")\n",
    "lname = input(\"Your last name please- \")\n",
    "print(lname,\" \",fname)"
   ]
  },
  {
   "cell_type": "markdown",
   "metadata": {},
   "source": [
    "3. Write a Python program to find the volume of a sphere with diameter 12 cm."
   ]
  },
  {
   "cell_type": "code",
   "execution_count": 3,
   "metadata": {},
   "outputs": [
    {
     "name": "stdout",
     "output_type": "stream",
     "text": [
      "please provide radius: 12\n",
      "the volume is :  7234.56\n"
     ]
    }
   ],
   "source": [
    "pi = 3.14\n",
    "radius = int(input(\"please provide radius: \"))\n",
    "volume = (4*pi*(radius**3))/3\n",
    "print(\"the volume is : \", volume)"
   ]
  }
 ],
 "metadata": {
  "kernelspec": {
   "display_name": "Python 3",
   "language": "python",
   "name": "python3"
  },
  "language_info": {
   "codemirror_mode": {
    "name": "ipython",
    "version": 3
   },
   "file_extension": ".py",
   "mimetype": "text/x-python",
   "name": "python",
   "nbconvert_exporter": "python",
   "pygments_lexer": "ipython3",
   "version": "3.8.3"
  }
 },
 "nbformat": 4,
 "nbformat_minor": 4
}
